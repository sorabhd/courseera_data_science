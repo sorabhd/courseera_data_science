{
 "cells": [
  {
   "cell_type": "markdown",
   "id": "8ab9f164",
   "metadata": {},
   "source": [
    "# Data Science Tools and Ecosystem"
   ]
  },
  {
   "cell_type": "markdown",
   "id": "20dc292d",
   "metadata": {},
   "source": [
    "In this notebook, Data Science Tools and Ecosystem are summarized."
   ]
  },
  {
   "cell_type": "markdown",
   "id": "503f0183",
   "metadata": {},
   "source": [
    "Some of the popular languages that Data Scientists use are:"
   ]
  },
  {
   "cell_type": "markdown",
   "id": "a1d06067",
   "metadata": {},
   "source": [
    "1. Python\n",
    "2. R\n",
    "3. SQL\n",
    "4. Java\n",
    "5. Scala\n",
    "6. Julia\n",
    "7. Matlab\n",
    "8. C/C++\n",
    "9. Perl"
   ]
  },
  {
   "cell_type": "markdown",
   "id": "0d03659b",
   "metadata": {},
   "source": [
    "Some of the commonly used libraries used by Data Scientists include:"
   ]
  },
  {
   "cell_type": "markdown",
   "id": "efde592a",
   "metadata": {},
   "source": [
    "1. NumPy\n",
    "2. pandas\n",
    "3. scikit-learn\n",
    "4. TensorFlow\n",
    "5. PyTorch\n",
    "6. Matplotlib\n",
    "7. Seaborn\n",
    "8. ggplot2\n",
    "9. Plotly\n",
    "10. NLTK\n",
    "11. H2O.ai\n",
    "12. Keras"
   ]
  },
  {
   "cell_type": "markdown",
   "id": "5d8c77dd",
   "metadata": {},
   "source": [
    "| Tool                  | Description                                                |\n",
    "|-----------------------|------------------------------------------------------------|\n",
    "| Python                | A versatile programming language for data analysis.      |\n",
    "| R                     | A language and environment for statistical computing.     |\n",
    "| SQL                   | Used for managing and querying relational databases.     |\n",
    "| Jupyter Notebook      | An open-source web application for interactive computing. |\n",
    "| Tableau               | A data visualization tool that simplifies complex data.   |\n",
    "| Excel                 | Often used for basic data analysis and visualization.    |\n",
    "| Power BI              | A business analytics tool for data visualization.         |\n",
    "| Hadoop                | A framework for distributed storage and processing.     |\n",
    "| Spark                 | An open-source, distributed computing system.            |\n",
    "| RapidMiner            | An integrated data science platform for analytics.       |\n",
    "| KNIME                 | An open-source data analytics, reporting, and integration platform. |\n",
    "| SAS                   | Software suite for advanced analytics and business intelligence. |\n",
    "| Weka                  | Data mining software for machine learning and data mining. |\n",
    "| Orange                | A visual programming tool for data visualization and analysis. |\n",
    "| Alteryx               | A data blending and advanced data analytics platform.   |\n",
    "| IBM Watson            | Offers AI and machine learning services and tools.      |\n",
    "| D3.js                 | A JavaScript library for creating interactive data visualizations. |\n",
    "| Rapid7 Metasploit     | A penetration testing and vulnerability management tool. |\n",
    "| Scrapy                | An open-source web crawling framework for data extraction. |\n",
    "| Rapidminer            | An open-source data science platform for analytics.     |\n",
    "| Gretl                 | An open-source statistical package for econometric analysis. |\n",
    "| Orange3               | An open-source data visualization and analysis tool.     |\n"
   ]
  },
  {
   "cell_type": "markdown",
   "id": "201418da",
   "metadata": {},
   "source": [
    "### Below are a few examples of evaluating arithmetic expressions in Python."
   ]
  },
  {
   "cell_type": "code",
   "execution_count": 3,
   "id": "3b198caf",
   "metadata": {},
   "outputs": [
    {
     "data": {
      "text/plain": [
       "17"
      ]
     },
     "execution_count": 3,
     "metadata": {},
     "output_type": "execute_result"
    }
   ],
   "source": [
    "#This a simple arithmetic expression to mutiply then add integers\n",
    "(3*4)+5"
   ]
  },
  {
   "cell_type": "markdown",
   "id": "1a452705",
   "metadata": {},
   "source": [
    "#### Exercise 9 - Create a code cell to convert minutes to hours"
   ]
  },
  {
   "cell_type": "code",
   "execution_count": 4,
   "id": "a87f2613",
   "metadata": {},
   "outputs": [],
   "source": [
    "minutes = 200"
   ]
  },
  {
   "cell_type": "code",
   "execution_count": 5,
   "id": "1a94b5ee",
   "metadata": {},
   "outputs": [],
   "source": [
    "hours = minutes / 60 # This will convert 200 minutes to hours by diving by 60"
   ]
  },
  {
   "cell_type": "code",
   "execution_count": 6,
   "id": "238b0d32",
   "metadata": {},
   "outputs": [
    {
     "name": "stdout",
     "output_type": "stream",
     "text": [
      "200 minutes is equal to 3.3333333333333335 hours.\n"
     ]
    }
   ],
   "source": [
    "print(f\"{minutes} minutes is equal to {hours} hours.\")"
   ]
  },
  {
   "cell_type": "code",
   "execution_count": null,
   "id": "96a67afd",
   "metadata": {},
   "outputs": [],
   "source": [
    "\n",
    "\n"
   ]
  },
  {
   "cell_type": "markdown",
   "id": "da99ecc9",
   "metadata": {},
   "source": [
    "## Objectives of this Notebook:\n"
   ]
  },
  {
   "cell_type": "markdown",
   "id": "7fd838fc",
   "metadata": {},
   "source": [
    "* List popular languages for Data Science.\n",
    "* List popular libraries used by Data Scientists.\n",
    "* Markdown usage in Notebook\n",
    "* Code cell usage in Notebook\n",
    "* Execution of Python Programs in Notebook\n",
    "* Git account creation and uploading of notebook to Git repositry."
   ]
  },
  {
   "cell_type": "markdown",
   "id": "247bac2c",
   "metadata": {},
   "source": [
    "## Author: Sorabh Dung"
   ]
  },
  {
   "cell_type": "code",
   "execution_count": null,
   "id": "73d2a984",
   "metadata": {},
   "outputs": [],
   "source": []
  }
 ],
 "metadata": {
  "kernelspec": {
   "display_name": "Python 3 (ipykernel)",
   "language": "python",
   "name": "python3"
  },
  "language_info": {
   "codemirror_mode": {
    "name": "ipython",
    "version": 3
   },
   "file_extension": ".py",
   "mimetype": "text/x-python",
   "name": "python",
   "nbconvert_exporter": "python",
   "pygments_lexer": "ipython3",
   "version": "3.11.5"
  }
 },
 "nbformat": 4,
 "nbformat_minor": 5
}
