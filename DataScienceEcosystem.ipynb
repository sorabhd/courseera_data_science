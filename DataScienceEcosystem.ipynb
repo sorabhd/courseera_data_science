{
 "cells": [
  {
   "cell_type": "markdown",
   "id": "ddfba618",
   "metadata": {},
   "source": [
    "# Data Science Tools and Ecosystem"
   ]
  },
  {
   "cell_type": "markdown",
   "id": "9c0e640b",
   "metadata": {},
   "source": [
    "In this notebook, Data Science Tools and Ecosystem are summarized."
   ]
  },
  {
   "cell_type": "markdown",
   "id": "6278bd51",
   "metadata": {},
   "source": [
    "Some of the popular languages that Data Scientists use are:"
   ]
  },
  {
   "cell_type": "markdown",
   "id": "d0173eec",
   "metadata": {},
   "source": [
    "1. Python\n",
    "2. R\n",
    "3. SQL\n",
    "4. Java\n",
    "5. Scala\n",
    "6. Julia\n",
    "7. Matlab\n",
    "8. C/C++\n",
    "9. Perl"
   ]
  },
  {
   "cell_type": "markdown",
   "id": "f7fee673",
   "metadata": {},
   "source": [
    "Some of the commonly used libraries used by Data Scientists include:"
   ]
  },
  {
   "cell_type": "markdown",
   "id": "4c4fc7e7",
   "metadata": {},
   "source": [
    "1. NumPy\n",
    "2. pandas\n",
    "3. scikit-learn\n",
    "4. TensorFlow\n",
    "5. PyTorch\n",
    "6. Matplotlib\n",
    "7. Seaborn\n",
    "8. ggplot2\n",
    "9. Plotly\n",
    "10. NLTK\n",
    "11. H2O.ai\n",
    "12. Keras"
   ]
  },
  {
   "cell_type": "markdown",
   "id": "77e4674f",
   "metadata": {},
   "source": [
    "| Tool                  | Description                                                |\n",
    "|-----------------------|------------------------------------------------------------|\n",
    "| Python                | A versatile programming language for data analysis.      |\n",
    "| R                     | A language and environment for statistical computing.     |\n",
    "| SQL                   | Used for managing and querying relational databases.     |\n",
    "| Jupyter Notebook      | An open-source web application for interactive computing. |\n",
    "| Tableau               | A data visualization tool that simplifies complex data.   |\n",
    "| Excel                 | Often used for basic data analysis and visualization.    |\n",
    "| Power BI              | A business analytics tool for data visualization.         |\n",
    "| Hadoop                | A framework for distributed storage and processing.     |\n",
    "| Spark                 | An open-source, distributed computing system.            |\n",
    "| RapidMiner            | An integrated data science platform for analytics.       |\n",
    "| KNIME                 | An open-source data analytics, reporting, and integration platform. |\n",
    "| SAS                   | Software suite for advanced analytics and business intelligence. |\n",
    "| Weka                  | Data mining software for machine learning and data mining. |\n",
    "| Orange                | A visual programming tool for data visualization and analysis. |\n",
    "| Alteryx               | A data blending and advanced data analytics platform.   |\n",
    "| IBM Watson            | Offers AI and machine learning services and tools.      |\n",
    "| D3.js                 | A JavaScript library for creating interactive data visualizations. |\n",
    "| Rapid7 Metasploit     | A penetration testing and vulnerability management tool. |\n",
    "| Scrapy                | An open-source web crawling framework for data extraction. |\n",
    "| Rapidminer            | An open-source data science platform for analytics.     |\n",
    "| Gretl                 | An open-source statistical package for econometric analysis. |\n",
    "| Orange3               | An open-source data visualization and analysis tool.     |\n"
   ]
  },
  {
   "cell_type": "markdown",
   "id": "063d876b",
   "metadata": {},
   "source": [
    "### Below are a few examples of evaluating arithmetic expressions in Python."
   ]
  },
  {
   "cell_type": "code",
   "execution_count": 3,
   "id": "7de6395c",
   "metadata": {},
   "outputs": [
    {
     "data": {
      "text/plain": [
       "17"
      ]
     },
     "execution_count": 3,
     "metadata": {},
     "output_type": "execute_result"
    }
   ],
   "source": [
    "#This a simple arithmetic expression to mutiply then add integers\n",
    "(3*4)+5"
   ]
  },
  {
   "cell_type": "markdown",
   "id": "a84c7ad0",
   "metadata": {},
   "source": [
    "#### Exercise 9 - Create a code cell to convert minutes to hours"
   ]
  },
  {
   "cell_type": "code",
   "execution_count": 4,
   "id": "f2a8f851",
   "metadata": {},
   "outputs": [],
   "source": [
    "minutes = 200"
   ]
  },
  {
   "cell_type": "code",
   "execution_count": 5,
   "id": "f0ce2cc8",
   "metadata": {},
   "outputs": [],
   "source": [
    "hours = minutes / 60 # This will convert 200 minutes to hours by diving by 60"
   ]
  },
  {
   "cell_type": "code",
   "execution_count": 6,
   "id": "5162240e",
   "metadata": {},
   "outputs": [
    {
     "name": "stdout",
     "output_type": "stream",
     "text": [
      "200 minutes is equal to 3.3333333333333335 hours.\n"
     ]
    }
   ],
   "source": [
    "print(f\"{minutes} minutes is equal to {hours} hours.\")"
   ]
  },
  {
   "cell_type": "code",
   "execution_count": null,
   "id": "f5fd5091",
   "metadata": {},
   "outputs": [],
   "source": [
    "\n",
    "\n"
   ]
  },
  {
   "cell_type": "markdown",
   "id": "f263095b",
   "metadata": {},
   "source": [
    "## Objectives of this Notebook:\n"
   ]
  },
  {
   "cell_type": "markdown",
   "id": "4bb517ec",
   "metadata": {},
   "source": [
    "* List popular languages for Data Science.\n",
    "* List popular libraries used by Data Scientists.\n",
    "* Markdown usage in Notebook\n",
    "* Code cell usage in Notebook\n",
    "* Execution of Python Programs in Notebook\n",
    "* Git account creation and uploading of notebook to Git repositry."
   ]
  },
  {
   "cell_type": "code",
   "execution_count": null,
   "id": "0fc4ccb1",
   "metadata": {},
   "outputs": [],
   "source": []
  }
 ],
 "metadata": {
  "kernelspec": {
   "display_name": "Python 3 (ipykernel)",
   "language": "python",
   "name": "python3"
  },
  "language_info": {
   "codemirror_mode": {
    "name": "ipython",
    "version": 3
   },
   "file_extension": ".py",
   "mimetype": "text/x-python",
   "name": "python",
   "nbconvert_exporter": "python",
   "pygments_lexer": "ipython3",
   "version": "3.11.5"
  }
 },
 "nbformat": 4,
 "nbformat_minor": 5
}
