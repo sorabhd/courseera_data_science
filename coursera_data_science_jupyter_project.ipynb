{
 "cells": [
  {
   "cell_type": "code",
   "execution_count": 1,
   "id": "a3a4af3a",
   "metadata": {},
   "outputs": [],
   "source": [
    "# Defining a function - factorial\n",
    "def factorial(n):\n",
    "    if n == 0:\n",
    "        return 1\n",
    "    else:\n",
    "        return n * factorial(n - 1)"
   ]
  },
  {
   "cell_type": "code",
   "execution_count": 2,
   "id": "b5d8337d",
   "metadata": {},
   "outputs": [
    {
     "name": "stdout",
     "output_type": "stream",
     "text": [
      "Enter a number5\n"
     ]
    }
   ],
   "source": [
    "# Input from the user\n",
    "num = int(input(\"Enter a number\"))"
   ]
  },
  {
   "cell_type": "code",
   "execution_count": 3,
   "id": "56b98d97",
   "metadata": {},
   "outputs": [],
   "source": [
    "result = factorial(num)"
   ]
  },
  {
   "cell_type": "markdown",
   "id": "fa8045e0",
   "metadata": {},
   "source": [
    "### print(result)"
   ]
  },
  {
   "cell_type": "code",
   "execution_count": 5,
   "id": "d6f19268",
   "metadata": {},
   "outputs": [
    {
     "name": "stdout",
     "output_type": "stream",
     "text": [
      "120\n"
     ]
    }
   ],
   "source": [
    "print(result)"
   ]
  },
  {
   "cell_type": "markdown",
   "id": "6fbe3405",
   "metadata": {},
   "source": [
    "### now change the num value"
   ]
  },
  {
   "cell_type": "code",
   "execution_count": 6,
   "id": "4eb22e3d",
   "metadata": {},
   "outputs": [],
   "source": [
    "num = 10"
   ]
  },
  {
   "cell_type": "code",
   "execution_count": 7,
   "id": "c53d9152",
   "metadata": {},
   "outputs": [],
   "source": [
    "result = factorial(num)"
   ]
  },
  {
   "cell_type": "code",
   "execution_count": 8,
   "id": "608d149f",
   "metadata": {},
   "outputs": [
    {
     "name": "stdout",
     "output_type": "stream",
     "text": [
      "3628800\n"
     ]
    }
   ],
   "source": [
    "print(result)"
   ]
  },
  {
   "cell_type": "markdown",
   "id": "25317245",
   "metadata": {},
   "source": [
    "# Now switching to R Kernel"
   ]
  },
  {
   "cell_type": "code",
   "execution_count": 1,
   "id": "90ced7c4",
   "metadata": {},
   "outputs": [],
   "source": [
    "data <- c(34, 45, 23, 56, 67, 12, 45, 34, 78, 90, 65, 32, 56)"
   ]
  },
  {
   "cell_type": "code",
   "execution_count": 2,
   "id": "98c3f0b3",
   "metadata": {},
   "outputs": [],
   "source": [
    "mean_value <- mean(data)"
   ]
  },
  {
   "cell_type": "code",
   "execution_count": 3,
   "id": "20b1e913",
   "metadata": {},
   "outputs": [],
   "source": [
    "std_deviation <- sd(data)"
   ]
  },
  {
   "cell_type": "code",
   "execution_count": 4,
   "id": "69be2eb3",
   "metadata": {},
   "outputs": [
    {
     "name": "stdout",
     "output_type": "stream",
     "text": [
      "Mean: 49 \n"
     ]
    }
   ],
   "source": [
    "cat(\"Mean:\", mean_value, \"\\n\")"
   ]
  },
  {
   "cell_type": "code",
   "execution_count": 5,
   "id": "797dc7c9",
   "metadata": {},
   "outputs": [
    {
     "name": "stdout",
     "output_type": "stream",
     "text": [
      "Standard Deviation: 22.39047 \n"
     ]
    }
   ],
   "source": [
    "cat(\"Standard Deviation:\", std_deviation, \"\\n\")"
   ]
  },
  {
   "cell_type": "code",
   "execution_count": 6,
   "id": "5faaa868",
   "metadata": {},
   "outputs": [
    {
     "data": {
      "image/png": "[encoded data removed]",
      "text/plain": [
       "Plot with title \"Histogram of Data\""
      ]
     },
     "metadata": {
      "image/png": {
       "height": 420,
       "width": 420
      }
     },
     "output_type": "display_data"
    }
   ],
   "source": [
    "hist(data, main=\"Histogram of Data\", xlab=\"Value\", ylab=\"Frequency\", col=\"lightblue\")"
   ]
  },
  {
   "cell_type": "markdown",
   "id": "ad73c485",
   "metadata": {},
   "source": [
    "#   GGPLOT2 Example"
   ]
  },
  {
   "cell_type": "code",
   "execution_count": 7,
   "id": "a2e3c123",
   "metadata": {},
   "outputs": [
    {
     "name": "stderr",
     "output_type": "stream",
     "text": [
      "Installing package into 'C:/Users/sdung/AppData/Local/R/win-library/4.3'\n",
      "(as 'lib' is unspecified)\n",
      "\n",
      "also installing the dependencies 'colorspace', 'farver', 'labeling', 'munsell', 'R6', 'RColorBrewer', 'viridisLite', 'magrittr', 'pkgconfig', 'gtable', 'isoband', 'scales', 'tibble', 'withr'\n",
      "\n",
      "\n"
     ]
    },
    {
     "name": "stdout",
     "output_type": "stream",
     "text": [
      "package 'colorspace' successfully unpacked and MD5 sums checked\n",
      "package 'farver' successfully unpacked and MD5 sums checked\n",
      "package 'labeling' successfully unpacked and MD5 sums checked\n",
      "package 'munsell' successfully unpacked and MD5 sums checked\n",
      "package 'R6' successfully unpacked and MD5 sums checked\n",
      "package 'RColorBrewer' successfully unpacked and MD5 sums checked\n",
      "package 'viridisLite' successfully unpacked and MD5 sums checked\n",
      "package 'magrittr' successfully unpacked and MD5 sums checked\n",
      "package 'pkgconfig' successfully unpacked and MD5 sums checked\n",
      "package 'gtable' successfully unpacked and MD5 sums checked\n",
      "package 'isoband' successfully unpacked and MD5 sums checked\n",
      "package 'scales' successfully unpacked and MD5 sums checked\n",
      "package 'tibble' successfully unpacked and MD5 sums checked\n",
      "package 'withr' successfully unpacked and MD5 sums checked\n",
      "package 'ggplot2' successfully unpacked and MD5 sums checked\n",
      "\n",
      "The downloaded binary packages are in\n",
      "\tC:\\Users\\sdung\\AppData\\Local\\Temp\\RtmpmMm72D\\downloaded_packages\n"
     ]
    }
   ],
   "source": [
    "install.packages(\"ggplot2\")\n",
    "library(ggplot2)"
   ]
  },
  {
   "cell_type": "code",
   "execution_count": 8,
   "id": "64ff958d",
   "metadata": {},
   "outputs": [],
   "source": [
    "data <- data.frame(\n",
    "  Name = c(\"Alice\", \"Bob\", \"Charlie\", \"David\"),\n",
    "  Age = c(25, 30, 35, 40)\n",
    ")"
   ]
  },
  {
   "cell_type": "code",
   "execution_count": 9,
   "id": "7db8cb36",
   "metadata": {},
   "outputs": [
    {
     "data": {
      "image/png": "[encoded data removed]",
      "text/plain": [
       "plot without title"
      ]
     },
     "metadata": {
      "image/png": {
       "height": 420,
       "width": 420
      }
     },
     "output_type": "display_data"
    }
   ],
   "source": [
    "ggplot(data, aes(x=Name, y=Age)) +\n",
    "  geom_bar(stat=\"identity\", fill=\"blue\") +\n",
    "  labs(title=\"Age Distribution\", x=\"Name\", y=\"Age\")"
   ]
  },
  {
   "cell_type": "markdown",
   "id": "2b51653b",
   "metadata": {},
   "source": [
    "# Now Switching Kernel back to Python"
   ]
  },
  {
   "cell_type": "markdown",
   "id": "5404c3f1",
   "metadata": {},
   "source": [
    "# Pandas Example"
   ]
  },
  {
   "cell_type": "code",
   "execution_count": 3,
   "id": "7c6f9a30",
   "metadata": {},
   "outputs": [],
   "source": [
    "import pandas as pd"
   ]
  },
  {
   "cell_type": "code",
   "execution_count": 2,
   "id": "d1d7d5da",
   "metadata": {},
   "outputs": [
    {
     "name": "stdout",
     "output_type": "stream",
     "text": [
      "Collecting pandasNote: you may need to restart the kernel to use updated packages.\n",
      "\n",
      "  Obtaining dependency information for pandas from https://files.pythonhosted.org/packages/2d/5e/9213ea10ac473e2437dc2cb17323ddc0999997e2713d6a0b683b10773994/pandas-2.1.1-cp311-cp311-win_amd64.whl.metadata\n",
      "  Downloading pandas-2.1.1-cp311-cp311-win_amd64.whl.metadata (18 kB)\n",
      "Collecting numpy>=1.23.2 (from pandas)\n",
      "  Obtaining dependency information for numpy>=1.23.2 from https://files.pythonhosted.org/packages/82/0f/3f712cd84371636c5375d2dd70e7514d264cec6bdfc3d7997a4236e9f948/numpy-1.26.1-cp311-cp311-win_amd64.whl.metadata\n",
      "  Downloading numpy-1.26.1-cp311-cp311-win_amd64.whl.metadata (61 kB)\n",
      "     ---------------------------------------- 0.0/61.2 kB ? eta -:--:--\n",
      "     ------------------- ------------------ 30.7/61.2 kB 640.0 kB/s eta 0:00:01\n",
      "     -------------------------------------- 61.2/61.2 kB 808.8 kB/s eta 0:00:00\n",
      "Requirement already satisfied: python-dateutil>=2.8.2 in c:\\users\\sdung\\anaconda3\\envs\\datascienceenv\\lib\\site-packages (from pandas) (2.8.2)\n",
      "Requirement already satisfied: pytz>=2020.1 in c:\\users\\sdung\\anaconda3\\envs\\datascienceenv\\lib\\site-packages (from pandas) (2023.3.post1)\n",
      "Collecting tzdata>=2022.1 (from pandas)\n",
      "  Using cached tzdata-2023.3-py2.py3-none-any.whl (341 kB)\n",
      "Requirement already satisfied: six>=1.5 in c:\\users\\sdung\\anaconda3\\envs\\datascienceenv\\lib\\site-packages (from python-dateutil>=2.8.2->pandas) (1.16.0)\n",
      "Downloading pandas-2.1.1-cp311-cp311-win_amd64.whl (10.6 MB)\n",
      "   ---------------------------------------- 0.0/10.6 MB ? eta -:--:--\n",
      "    --------------------------------------- 0.2/10.6 MB 4.6 MB/s eta 0:00:03\n",
      "   - -------------------------------------- 0.4/10.6 MB 5.4 MB/s eta 0:00:02\n",
      "   --- ------------------------------------ 1.0/10.6 MB 7.6 MB/s eta 0:00:02\n",
      "   ---- ----------------------------------- 1.2/10.6 MB 7.1 MB/s eta 0:00:02\n",
      "   ------ --------------------------------- 1.7/10.6 MB 7.8 MB/s eta 0:00:02\n",
      "   ------- -------------------------------- 1.9/10.6 MB 7.6 MB/s eta 0:00:02\n",
      "   --------- ------------------------------ 2.6/10.6 MB 8.2 MB/s eta 0:00:01\n",
      "   ---------- ----------------------------- 2.9/10.6 MB 8.0 MB/s eta 0:00:01\n",
      "   ------------ --------------------------- 3.4/10.6 MB 8.3 MB/s eta 0:00:01\n",
      "   -------------- ------------------------- 3.9/10.6 MB 8.6 MB/s eta 0:00:01\n",
      "   ---------------- ----------------------- 4.5/10.6 MB 8.9 MB/s eta 0:00:01\n",
      "   ------------------- -------------------- 5.2/10.6 MB 9.5 MB/s eta 0:00:01\n",
      "   --------------------- ------------------ 5.7/10.6 MB 9.6 MB/s eta 0:00:01\n",
      "   ----------------------- ---------------- 6.4/10.6 MB 9.9 MB/s eta 0:00:01\n",
      "   ------------------------- -------------- 6.9/10.6 MB 10.0 MB/s eta 0:00:01\n",
      "   --------------------------- ------------ 7.4/10.6 MB 10.1 MB/s eta 0:00:01\n",
      "   ----------------------------- ---------- 7.7/10.6 MB 10.1 MB/s eta 0:00:01\n",
      "   ------------------------------- -------- 8.4/10.6 MB 10.3 MB/s eta 0:00:01\n",
      "   -------------------------------- ------- 8.7/10.6 MB 10.0 MB/s eta 0:00:01\n",
      "   ---------------------------------- ----- 9.2/10.6 MB 9.9 MB/s eta 0:00:01\n",
      "   ------------------------------------ --- 9.7/10.6 MB 10.0 MB/s eta 0:00:01\n",
      "   ------------------------------------- -- 10.0/10.6 MB 9.9 MB/s eta 0:00:01\n",
      "   ---------------------------------------  10.6/10.6 MB 10.6 MB/s eta 0:00:01\n",
      "   ---------------------------------------- 10.6/10.6 MB 10.1 MB/s eta 0:00:00\n",
      "Downloading numpy-1.26.1-cp311-cp311-win_amd64.whl (15.8 MB)\n",
      "   ---------------------------------------- 0.0/15.8 MB ? eta -:--:--\n",
      "   - -------------------------------------- 0.6/15.8 MB 19.8 MB/s eta 0:00:01\n",
      "   --- ------------------------------------ 1.3/15.8 MB 13.8 MB/s eta 0:00:02\n",
      "   ---- ----------------------------------- 1.7/15.8 MB 13.2 MB/s eta 0:00:02\n",
      "   ----- ---------------------------------- 2.3/15.8 MB 12.0 MB/s eta 0:00:02\n",
      "   ------ --------------------------------- 2.5/15.8 MB 10.7 MB/s eta 0:00:02\n",
      "   -------- ------------------------------- 3.3/15.8 MB 12.6 MB/s eta 0:00:01\n",
      "   ---------- ----------------------------- 4.1/15.8 MB 13.1 MB/s eta 0:00:01\n",
      "   ----------- ---------------------------- 4.5/15.8 MB 12.6 MB/s eta 0:00:01\n",
      "   ------------- -------------------------- 5.4/15.8 MB 13.2 MB/s eta 0:00:01\n",
      "   -------------- ------------------------- 5.7/15.8 MB 12.5 MB/s eta 0:00:01\n",
      "   --------------- ------------------------ 6.3/15.8 MB 12.6 MB/s eta 0:00:01\n",
      "   ---------------- ----------------------- 6.6/15.8 MB 12.5 MB/s eta 0:00:01\n",
      "   ------------------ --------------------- 7.2/15.8 MB 12.1 MB/s eta 0:00:01\n",
      "   -------------------- ------------------- 7.9/15.8 MB 12.3 MB/s eta 0:00:01\n",
      "   --------------------- ------------------ 8.5/15.8 MB 12.3 MB/s eta 0:00:01\n",
      "   ---------------------- ----------------- 8.9/15.8 MB 12.4 MB/s eta 0:00:01\n",
      "   ----------------------- ---------------- 9.3/15.8 MB 12.2 MB/s eta 0:00:01\n",
      "   ------------------------- -------------- 10.0/15.8 MB 12.0 MB/s eta 0:00:01\n",
      "   --------------------------- ------------ 10.8/15.8 MB 12.4 MB/s eta 0:00:01\n",
      "   --------------------------- ------------ 10.9/15.8 MB 11.7 MB/s eta 0:00:01\n",
      "   ----------------------------- ---------- 11.6/15.8 MB 11.7 MB/s eta 0:00:01\n",
      "   ------------------------------- -------- 12.3/15.8 MB 12.1 MB/s eta 0:00:01\n",
      "   -------------------------------- ------- 12.7/15.8 MB 11.9 MB/s eta 0:00:01\n",
      "   ----------------------------------- ---- 13.9/15.8 MB 12.6 MB/s eta 0:00:01\n",
      "   ----------------------------------- ---- 14.0/15.8 MB 12.4 MB/s eta 0:00:01\n",
      "   ------------------------------------- -- 14.7/15.8 MB 12.1 MB/s eta 0:00:01\n",
      "   ---------------------------------------  15.8/15.8 MB 12.8 MB/s eta 0:00:01\n",
      "   ---------------------------------------  15.8/15.8 MB 12.8 MB/s eta 0:00:01\n",
      "   ---------------------------------------- 15.8/15.8 MB 11.7 MB/s eta 0:00:00\n",
      "Installing collected packages: tzdata, numpy, pandas\n",
      "Successfully installed numpy-1.26.1 pandas-2.1.1 tzdata-2023.3\n"
     ]
    }
   ],
   "source": []
  },
  {
   "cell_type": "code",
   "execution_count": 4,
   "id": "bd3b1509",
   "metadata": {},
   "outputs": [],
   "source": [
    "data = {'Name': ['Alice', 'Bob', 'Charlie', 'David'],\n",
    "        'Age': [25, 30, 35, 40]}\n",
    "df = pd.DataFrame(data)"
   ]
  },
  {
   "cell_type": "code",
   "execution_count": 5,
   "id": "2c87f846",
   "metadata": {},
   "outputs": [
    {
     "name": "stdout",
     "output_type": "stream",
     "text": [
      "      Name  Age\n",
      "0    Alice   25\n",
      "1      Bob   30\n",
      "2  Charlie   35\n",
      "3    David   40\n"
     ]
    }
   ],
   "source": [
    "print(df)"
   ]
  },
  {
   "cell_type": "code",
   "execution_count": 6,
   "id": "9d9aecfa",
   "metadata": {},
   "outputs": [
    {
     "name": "stdout",
     "output_type": "stream",
     "text": [
      "      Name  Age\n",
      "2  Charlie   35\n",
      "3    David   40\n"
     ]
    }
   ],
   "source": [
    "filtered_data = df[df['Age'] > 30]\n",
    "print(filtered_data)"
   ]
  },
  {
   "cell_type": "markdown",
   "id": "b63205dc",
   "metadata": {},
   "source": [
    "# Next trying NumPy"
   ]
  },
  {
   "cell_type": "code",
   "execution_count": 7,
   "id": "32cf5062",
   "metadata": {},
   "outputs": [],
   "source": [
    "import numpy as np"
   ]
  },
  {
   "cell_type": "code",
   "execution_count": 8,
   "id": "dee82c2c",
   "metadata": {},
   "outputs": [],
   "source": [
    "arr = np.array([1, 2, 3, 4, 5])"
   ]
  },
  {
   "cell_type": "code",
   "execution_count": 9,
   "id": "2933a454",
   "metadata": {},
   "outputs": [],
   "source": [
    "mean = np.mean(arr)\n",
    "std_dev = np.std(arr)"
   ]
  },
  {
   "cell_type": "code",
   "execution_count": 10,
   "id": "79521356",
   "metadata": {},
   "outputs": [
    {
     "name": "stdout",
     "output_type": "stream",
     "text": [
      "Mean: 3.0\n"
     ]
    }
   ],
   "source": [
    "print(\"Mean:\", mean)"
   ]
  },
  {
   "cell_type": "code",
   "execution_count": 11,
   "id": "7984fc75",
   "metadata": {},
   "outputs": [
    {
     "name": "stdout",
     "output_type": "stream",
     "text": [
      "Standard Deviation: 1.4142135623730951\n"
     ]
    }
   ],
   "source": [
    "print(\"Standard Deviation:\", std_dev)"
   ]
  },
  {
   "cell_type": "code",
   "execution_count": null,
   "id": "f7512282",
   "metadata": {},
   "outputs": [],
   "source": []
  }
 ],
 "metadata": {
  "kernelspec": {
   "display_name": "Python 3 (ipykernel)",
   "language": "python",
   "name": "python3"
  },
  "language_info": {
   "codemirror_mode": {
    "name": "ipython",
    "version": 3
   },
   "file_extension": ".py",
   "mimetype": "text/x-python",
   "name": "python",
   "nbconvert_exporter": "python",
   "pygments_lexer": "ipython3",
   "version": "3.11.5"
  }
 },
 "nbformat": 4,
 "nbformat_minor": 5
}
